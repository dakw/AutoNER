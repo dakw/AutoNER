{
  "nbformat": 4,
  "nbformat_minor": 0,
  "metadata": {
    "colab": {
      "provenance": [],
      "gpuType": "T4",
      "include_colab_link": true
    },
    "kernelspec": {
      "name": "python3",
      "display_name": "Python 3"
    },
    "language_info": {
      "name": "python"
    },
    "accelerator": "GPU"
  },
  "cells": [
    {
      "cell_type": "markdown",
      "metadata": {
        "id": "view-in-github",
        "colab_type": "text"
      },
      "source": [
        "<a href=\"https://colab.research.google.com/github/dakw/AutoNER/blob/master/2_Word2Vec_KIng.ipynb\" target=\"_parent\"><img src=\"https://colab.research.google.com/assets/colab-badge.svg\" alt=\"Open In Colab\"/></a>"
      ]
    },
    {
      "cell_type": "markdown",
      "source": [
        "# 1. Word2Vec\n",
        "\n",
        " - 텍스트 데이터에서 단어의 분산 표현을 학습하는 도구\n",
        " - 단어의 유사도를 계산하고, 단어의 의미론적 관계를 파악할 수 있습니다.\n",
        " - 자연어 처리 분야에서 많이 활용되며, 유사한 단어를 추천하거나 문장의 의미를 파악하는 등의 다양한 작업에 활용됩니다.\n",
        "\n",
        "<br>\n",
        "\n",
        "### gensim 라이브러리를 이용해서 Word2Vec을 한 번 훑어보죠.\n",
        "\n"
      ],
      "metadata": {
        "id": "btN7mY-2QbNG"
      }
    },
    {
      "cell_type": "code",
      "execution_count": null,
      "metadata": {
        "id": "_ZYwic9-JkB3",
        "outputId": "8117b6ab-b617-4e82-ae00-bf5524be18df",
        "colab": {
          "base_uri": "https://localhost:8080/"
        }
      },
      "outputs": [
        {
          "output_type": "stream",
          "name": "stdout",
          "text": [
            "Requirement already satisfied: gensim in /usr/local/lib/python3.10/dist-packages (4.3.2)\n",
            "Requirement already satisfied: numpy>=1.18.5 in /usr/local/lib/python3.10/dist-packages (from gensim) (1.23.5)\n",
            "Requirement already satisfied: scipy>=1.7.0 in /usr/local/lib/python3.10/dist-packages (from gensim) (1.11.2)\n",
            "Requirement already satisfied: smart-open>=1.8.1 in /usr/local/lib/python3.10/dist-packages (from gensim) (6.4.0)\n"
          ]
        }
      ],
      "source": [
        "!pip install --upgrade gensim"
      ]
    },
    {
      "cell_type": "code",
      "source": [
        "from gensim.models import Word2Vec\n",
        "\n",
        "# 학습할 단어들 정의\n",
        "sentences = [['Jensen', 'like', 'tea', 'and', 'cake', 'in','the','car','on','birthday','word2vec'],\n",
        "            ['King', 'is', 'married', 'with', 'queen'],\n",
        "            ['King', 'is', 'man'],\n",
        "            ['Queen','is','woman'],\n",
        "            ['King', 'saw', 'cloud','over','water'],\n",
        "            ['Cake', 'is', 'the', 'type','of','bread']]\n",
        "\n",
        "# train model\n",
        "model = Word2Vec(sentences, vector_size=100, min_count=1) # vector_size가 차원수가 됩니다.\n",
        "\n",
        "# summarize the loaded model\n",
        "print(model)\n",
        "\n",
        "# summarize vocabulary - 모델에 있는 모든 단어를 인덱스에 넣고 리스트\n",
        "words = list(model.wv.key_to_index) # changed from vocab to key_to_index in Gensim 4.0.0\n",
        "print(words)\n",
        "\n",
        "# access vector for one word - model.wv를 이용해서 워드 벡터에 액세스\n",
        "print(model.wv['birthday']) # birthday의 Word2vec 임베딩을 봅시다.\n",
        "\n",
        "# save model\n",
        "model.save('model.bin')\n",
        "\n",
        "# load model\n",
        "new_model = Word2Vec.load('model.bin')\n",
        "print(new_model)\n",
        "\n",
        "# 출처 : https://ngio.co.kr/9518\n",
        "# Gensim 4.0.0 대응이 되질 않아서 GPT-4로 수정받았어요"
      ],
      "metadata": {
        "colab": {
          "base_uri": "https://localhost:8080/"
        },
        "id": "B7NWH0wFJrtf",
        "outputId": "91e3e52b-f92d-47c9-bd9d-5ce475478bc8"
      },
      "execution_count": null,
      "outputs": [
        {
          "output_type": "stream",
          "name": "stdout",
          "text": [
            "Word2Vec<vocab=27, vector_size=100, alpha=0.025>\n",
            "['is', 'King', 'the', 'bread', 'like', 'tea', 'and', 'cake', 'in', 'car', 'on', 'birthday', 'word2vec', 'married', 'of', 'with', 'queen', 'man', 'Queen', 'woman', 'saw', 'cloud', 'over', 'water', 'Cake', 'type', 'Jensen']\n",
            "[ 9.7714197e-03  8.1620673e-03  1.2780726e-03  5.0972598e-03\n",
            "  1.4069167e-03 -6.4557586e-03 -1.4241486e-03  6.4503071e-03\n",
            " -4.6185562e-03 -3.9974251e-03  4.9262121e-03  2.7150316e-03\n",
            " -1.8516944e-03 -2.8763695e-03  6.0076430e-03 -5.7175364e-03\n",
            " -3.2326863e-03 -6.4902497e-03 -4.2318865e-03 -8.5860305e-03\n",
            " -4.4710925e-03 -8.5129701e-03  1.4088572e-03 -8.6151036e-03\n",
            " -9.9161686e-03 -8.2025928e-03 -6.7767091e-03  6.6788029e-03\n",
            "  3.7849853e-03  3.5690522e-04 -2.9515163e-03 -7.4236090e-03\n",
            "  5.3231441e-04  5.0047867e-04  1.9192453e-04  8.5415825e-04\n",
            "  7.8236818e-04 -6.9029229e-05 -8.0065159e-03 -5.8746273e-03\n",
            " -8.3771907e-03 -1.3138205e-03  1.8240606e-03  7.4105305e-03\n",
            " -1.9634999e-03 -2.3232966e-03  9.4863856e-03  7.9558398e-05\n",
            " -2.4058085e-03  8.6067189e-03  2.6907290e-03 -5.3473641e-03\n",
            "  6.5868907e-03  4.5141201e-03 -7.0592361e-03 -3.2934145e-04\n",
            "  8.3369436e-04  5.7434817e-03 -1.7213263e-03 -2.8135506e-03\n",
            "  1.7489302e-03  8.4734370e-04  1.2004498e-03 -2.6355931e-03\n",
            " -5.9879860e-03  7.3247487e-03  7.5863684e-03  8.2914727e-03\n",
            " -8.6051123e-03  2.6306037e-03 -3.5600231e-03  9.6251667e-03\n",
            "  2.9028240e-03  4.6424097e-03  2.3880007e-03  6.6034715e-03\n",
            " -5.7452586e-03  7.8984480e-03 -2.4105764e-03 -4.5577828e-03\n",
            " -2.0564189e-03  9.7301966e-03 -6.8584504e-03 -2.1916013e-03\n",
            "  7.0028906e-03 -6.2717794e-05 -6.2914034e-03 -6.3921623e-03\n",
            "  8.9365151e-03  6.4301477e-03  4.7725993e-03 -3.2600001e-03\n",
            " -9.2707369e-03  3.7881709e-03  7.1659088e-03 -5.6361407e-03\n",
            " -7.8651216e-03 -2.9756429e-03 -4.9314080e-03 -2.3127412e-03]\n",
            "Word2Vec<vocab=27, vector_size=100, alpha=0.025>\n"
          ]
        }
      ]
    },
    {
      "cell_type": "code",
      "source": [
        "print(new_model.vector_size)"
      ],
      "metadata": {
        "id": "ISt8dUwdV2_s",
        "outputId": "563bf5f8-2a04-4b6f-9077-0aa562cae148",
        "colab": {
          "base_uri": "https://localhost:8080/",
          "height": 186
        }
      },
      "execution_count": null,
      "outputs": [
        {
          "output_type": "error",
          "ename": "NameError",
          "evalue": "ignored",
          "traceback": [
            "\u001b[0;31m---------------------------------------------------------------------------\u001b[0m",
            "\u001b[0;31mNameError\u001b[0m                                 Traceback (most recent call last)",
            "\u001b[0;32m<ipython-input-2-499619b9c3fc>\u001b[0m in \u001b[0;36m<cell line: 1>\u001b[0;34m()\u001b[0m\n\u001b[0;32m----> 1\u001b[0;31m \u001b[0mprint\u001b[0m\u001b[0;34m(\u001b[0m\u001b[0mnew_model\u001b[0m\u001b[0;34m.\u001b[0m\u001b[0mvector_size\u001b[0m\u001b[0;34m)\u001b[0m\u001b[0;34m\u001b[0m\u001b[0;34m\u001b[0m\u001b[0m\n\u001b[0m",
            "\u001b[0;31mNameError\u001b[0m: name 'new_model' is not defined"
          ]
        }
      ]
    },
    {
      "cell_type": "code",
      "source": [
        "from sklearn.decomposition import PCA\n",
        "from matplotlib import pyplot\n",
        "\n",
        "# fit a 2d PCA model to the vectors\n",
        "X = model.wv[model.wv.key_to_index] # use model.wv[key_to_index] instead of model.wv.vocab\n",
        "pca = PCA(n_components=2)\n",
        "result = pca.fit_transform(X)\n",
        "\n",
        "# create a scatter plot of the projection\n",
        "pyplot.scatter(result[:, 0], result[:, 1])\n",
        "words = list(model.wv.key_to_index) # use model.wv[key_to_index] instead of model.wv.vocab\n",
        "for i, word in enumerate(words):\n",
        "\tpyplot.annotate(word, xy=(result[i, 0], result[i, 1]))\n",
        "pyplot.show()\n",
        "\n",
        "\n",
        "# 출처 : https://ngio.co.kr/9518\n",
        "# Gensim 4.0.0 대응이 되질 않아서 GPT-4로 수정받았어요"
      ],
      "metadata": {
        "id": "HPgTzZs4NDBu",
        "outputId": "be4e4979-8b7f-42b5-87dd-50fdeb1b5c33",
        "colab": {
          "base_uri": "https://localhost:8080/",
          "height": 430
        }
      },
      "execution_count": null,
      "outputs": [
        {
          "output_type": "display_data",
          "data": {
            "text/plain": [
              "<Figure size 640x480 with 1 Axes>"
            ],
            "image/png": "[encoded data removed]"
          },
          "metadata": {}
        }
      ]
    },
    {
      "cell_type": "markdown",
      "source": [
        "### Google의 Word2Vec 임베딩으로 유사성 검색\n",
        "\n",
        "```python\n",
        "\n",
        "from gensim.models import KeyedVectors\n",
        "\n",
        "# load the google word2vec model\n",
        "filename = 'GoogleNews-vectors-negative300.bin'\n",
        "model = KeyedVectors.load_word2vec_format(filename, binary=True)\n",
        "\n",
        "# calculate: (king - man) + woman = ?\n",
        "result = model.most_similar(positive=['woman', 'king'], negative=['man'], topn=1)\n",
        "print(result)\n",
        "\n",
        "# 결과값은 아래와 같이 나옵니다.\n",
        "\n",
        "[('queen', 0.7118192315101624)]\n",
        "\n",
        "# 출처 : https://ngio.co.kr/9518\n",
        "# Gensim 4.0.0 대응이 되질 않아서 GPT-4로 수정받았어요\n",
        "# GoogleNews-vectors-negative300.bin이 3.4GB나 되서 포기\n",
        "```"
      ],
      "metadata": {
        "id": "U0_ZFpnGRjMo"
      }
    },
    {
      "cell_type": "markdown",
      "source": [],
      "metadata": {
        "id": "vnu3g-OZRjLw"
      }
    }
  ]
}